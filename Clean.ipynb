{
 "cells": [
  {
   "cell_type": "code",
   "execution_count": 6,
   "metadata": {
    "collapsed": false
   },
   "outputs": [],
   "source": [
    "from clean import cleanTrainData\n",
    "from clean import cleanTestData"
   ]
  },
  {
   "cell_type": "code",
   "execution_count": 7,
   "metadata": {
    "collapsed": false
   },
   "outputs": [],
   "source": [
    "train_start = '2016-02-01'\n",
    "train_end = '2016-03-15'\n",
    "label_start = '2016-03-16'\n",
    "label_end = '2016-03-20'\n",
    "cleanTrainData(train_start, train_end,label_start, label_end)"
   ]
  },
  {
   "cell_type": "code",
   "execution_count": 4,
   "metadata": {
    "collapsed": false
   },
   "outputs": [],
   "source": [
    "train_start = '2016-02-10'\n",
    "train_end = '2016-04-01'\n",
    "label_start = '2016-04-02'\n",
    "label_end = '2016-04-06'\n",
    "cleanTrainData(train_start, train_end,label_start, label_end)"
   ]
  },
  {
   "cell_type": "code",
   "execution_count": 5,
   "metadata": {
    "collapsed": true
   },
   "outputs": [],
   "source": [
    "test_start = '2016-02-25'\n",
    "test_end = '2016-04-15'\n",
    "cleanTestData(test_start, test_end)"
   ]
  },
  {
   "cell_type": "code",
   "execution_count": 5,
   "metadata": {
    "collapsed": false
   },
   "outputs": [],
   "source": [
    "train_start = '2016-02-20'\n",
    "train_end = '2016-04-10'\n",
    "label_start = '2016-04-11'\n",
    "label_end = '2016-04-15'\n",
    "cleanTrainData(train_start, train_end,label_start, label_end)"
   ]
  },
  {
   "cell_type": "code",
   "execution_count": null,
   "metadata": {
    "collapsed": true
   },
   "outputs": [],
   "source": []
  }
 ],
 "metadata": {
  "kernelspec": {
   "display_name": "Python 2",
   "language": "python",
   "name": "python2"
  },
  "language_info": {
   "codemirror_mode": {
    "name": "ipython",
    "version": 2
   },
   "file_extension": ".py",
   "mimetype": "text/x-python",
   "name": "python",
   "nbconvert_exporter": "python",
   "pygments_lexer": "ipython2",
   "version": "2.7.13"
  }
 },
 "nbformat": 4,
 "nbformat_minor": 2
}
